{
 "cells": [
  {
   "cell_type": "code",
   "execution_count": 1,
   "metadata": {},
   "outputs": [
    {
     "name": "stderr",
     "output_type": "stream",
     "text": [
      "[nltk_data] Downloading package reuters to /home/vedaya/nltk_data...\n",
      "[nltk_data]   Package reuters is already up-to-date!\n"
     ]
    }
   ],
   "source": [
    "import sys\n",
    "assert sys.version_info[0]==3\n",
    "assert sys.version_info[1] >= 5\n",
    "\n",
    "from gensim.models import KeyedVectors\n",
    "from gensim.test.utils import datapath\n",
    "import pprint\n",
    "import matplotlib.pyplot as plt\n",
    "plt.rcParams['figure.figsize'] = [10, 5]\n",
    "import nltk\n",
    "nltk.download('reuters')\n",
    "from nltk.corpus import reuters\n",
    "import numpy as np\n",
    "import random\n",
    "import scipy as sp\n",
    "from sklearn.decomposition import TruncatedSVD\n",
    "from sklearn.decomposition import PCA\n",
    "\n",
    "START_TOKEN = '<START>'\n",
    "END_TOKEN = '<END>'\n",
    "\n",
    "np.random.seed(0)\n",
    "random.seed(0)"
   ]
  },
  {
   "cell_type": "code",
   "execution_count": 2,
   "metadata": {},
   "outputs": [
    {
     "name": "stdout",
     "output_type": "stream",
     "text": [
      "Requirement already satisfied: nltk in ./spotify/lib/python3.12/site-packages (3.9.1)\n",
      "Requirement already satisfied: click in ./spotify/lib/python3.12/site-packages (from nltk) (8.1.7)\n",
      "Requirement already satisfied: joblib in ./spotify/lib/python3.12/site-packages (from nltk) (1.4.2)\n",
      "Requirement already satisfied: regex>=2021.8.3 in ./spotify/lib/python3.12/site-packages (from nltk) (2024.11.6)\n",
      "Requirement already satisfied: tqdm in ./spotify/lib/python3.12/site-packages (from nltk) (4.67.0)\n"
     ]
    }
   ],
   "source": [
    "! pip install  nltk"
   ]
  },
  {
   "cell_type": "code",
   "execution_count": 3,
   "metadata": {},
   "outputs": [],
   "source": [
    "def read_corpus():\n",
    "    \"\"\" Read files from the Large Movie Review Dataset.\n",
    "        Params:\n",
    "            category (string): category name\n",
    "        Return:\n",
    "            list of lists, with words from each of the processed files\n",
    "    \"\"\"\n",
    "    files = imdb_dataset[\"train\"][\"text\"][:NUM_SAMPLES]\n",
    "    return [[START_TOKEN] + [re.sub(r'[^\\w]', '', w.lower()) for w in f.split(\" \")] + [END_TOKEN] for f in files]"
   ]
  },
  {
   "cell_type": "code",
   "execution_count": 4,
   "metadata": {},
   "outputs": [
    {
     "ename": "NameError",
     "evalue": "name 'imdb_dataset' is not defined",
     "output_type": "error",
     "traceback": [
      "\u001b[0;31m---------------------------------------------------------------------------\u001b[0m",
      "\u001b[0;31mNameError\u001b[0m                                 Traceback (most recent call last)",
      "Cell \u001b[0;32mIn[4], line 1\u001b[0m\n\u001b[0;32m----> 1\u001b[0m imdb_corpus \u001b[38;5;241m=\u001b[39m \u001b[43mread_corpus\u001b[49m\u001b[43m(\u001b[49m\u001b[43m)\u001b[49m\n\u001b[1;32m      2\u001b[0m pprint\u001b[38;5;241m.\u001b[39mpprint(imdb_corpus[:\u001b[38;5;241m3\u001b[39m], compact\u001b[38;5;241m=\u001b[39m\u001b[38;5;28;01mTrue\u001b[39;00m, width\u001b[38;5;241m=\u001b[39m\u001b[38;5;241m100\u001b[39m)\n\u001b[1;32m      3\u001b[0m \u001b[38;5;28mprint\u001b[39m(\u001b[38;5;124m\"\u001b[39m\u001b[38;5;124mcorpus size: \u001b[39m\u001b[38;5;124m\"\u001b[39m, \u001b[38;5;28mlen\u001b[39m(imdb_corpus[\u001b[38;5;241m0\u001b[39m]))\n",
      "Cell \u001b[0;32mIn[3], line 8\u001b[0m, in \u001b[0;36mread_corpus\u001b[0;34m()\u001b[0m\n\u001b[1;32m      1\u001b[0m \u001b[38;5;28;01mdef\u001b[39;00m \u001b[38;5;21mread_corpus\u001b[39m():\n\u001b[1;32m      2\u001b[0m \u001b[38;5;250m    \u001b[39m\u001b[38;5;124;03m\"\"\" Read files from the Large Movie Review Dataset.\u001b[39;00m\n\u001b[1;32m      3\u001b[0m \u001b[38;5;124;03m        Params:\u001b[39;00m\n\u001b[1;32m      4\u001b[0m \u001b[38;5;124;03m            category (string): category name\u001b[39;00m\n\u001b[1;32m      5\u001b[0m \u001b[38;5;124;03m        Return:\u001b[39;00m\n\u001b[1;32m      6\u001b[0m \u001b[38;5;124;03m            list of lists, with words from each of the processed files\u001b[39;00m\n\u001b[1;32m      7\u001b[0m \u001b[38;5;124;03m    \"\"\"\u001b[39;00m\n\u001b[0;32m----> 8\u001b[0m     files \u001b[38;5;241m=\u001b[39m \u001b[43mimdb_dataset\u001b[49m[\u001b[38;5;124m\"\u001b[39m\u001b[38;5;124mtrain\u001b[39m\u001b[38;5;124m\"\u001b[39m][\u001b[38;5;124m\"\u001b[39m\u001b[38;5;124mtext\u001b[39m\u001b[38;5;124m\"\u001b[39m][:NUM_SAMPLES]\n\u001b[1;32m      9\u001b[0m     \u001b[38;5;28;01mreturn\u001b[39;00m [[START_TOKEN] \u001b[38;5;241m+\u001b[39m [re\u001b[38;5;241m.\u001b[39msub(\u001b[38;5;124mr\u001b[39m\u001b[38;5;124m'\u001b[39m\u001b[38;5;124m[^\u001b[39m\u001b[38;5;124m\\\u001b[39m\u001b[38;5;124mw]\u001b[39m\u001b[38;5;124m'\u001b[39m, \u001b[38;5;124m'\u001b[39m\u001b[38;5;124m'\u001b[39m, w\u001b[38;5;241m.\u001b[39mlower()) \u001b[38;5;28;01mfor\u001b[39;00m w \u001b[38;5;129;01min\u001b[39;00m f\u001b[38;5;241m.\u001b[39msplit(\u001b[38;5;124m\"\u001b[39m\u001b[38;5;124m \u001b[39m\u001b[38;5;124m\"\u001b[39m)] \u001b[38;5;241m+\u001b[39m [END_TOKEN] \u001b[38;5;28;01mfor\u001b[39;00m f \u001b[38;5;129;01min\u001b[39;00m files]\n",
      "\u001b[0;31mNameError\u001b[0m: name 'imdb_dataset' is not defined"
     ]
    }
   ],
   "source": [
    "imdb_corpus = read_corpus()\n",
    "pprint.pprint(imdb_corpus[:3], compact=True, width=100)\n",
    "print(\"corpus size: \", len(imdb_corpus[0]))"
   ]
  },
  {
   "cell_type": "code",
   "execution_count": 19,
   "metadata": {},
   "outputs": [
    {
     "ename": "NameError",
     "evalue": "name 'NUM_SAMPLES' is not defined",
     "output_type": "error",
     "traceback": [
      "\u001b[0;31m---------------------------------------------------------------------------\u001b[0m",
      "\u001b[0;31mNameError\u001b[0m                                 Traceback (most recent call last)",
      "Cell \u001b[0;32mIn[19], line 15\u001b[0m\n\u001b[1;32m     12\u001b[0m     \u001b[38;5;28;01mreturn\u001b[39;00m corpus\n\u001b[1;32m     14\u001b[0m \u001b[38;5;66;03m# Read positive reviews\u001b[39;00m\n\u001b[0;32m---> 15\u001b[0m pos_reviews \u001b[38;5;241m=\u001b[39m \u001b[43mread_local_imdb\u001b[49m\u001b[43m(\u001b[49m\u001b[38;5;124;43m'\u001b[39;49m\u001b[38;5;124;43mdata/aclImdb/train/pos\u001b[39;49m\u001b[38;5;124;43m'\u001b[39;49m\u001b[43m)\u001b[49m\n\u001b[1;32m     16\u001b[0m \u001b[38;5;66;03m# Read negative reviews\u001b[39;00m\n\u001b[1;32m     17\u001b[0m neg_reviews \u001b[38;5;241m=\u001b[39m read_local_imdb(\u001b[38;5;124m'\u001b[39m\u001b[38;5;124mdata/aclImdb/train/neg\u001b[39m\u001b[38;5;124m'\u001b[39m)\n",
      "Cell \u001b[0;32mIn[19], line 5\u001b[0m, in \u001b[0;36mread_local_imdb\u001b[0;34m(data_path)\u001b[0m\n\u001b[1;32m      3\u001b[0m \u001b[38;5;28;01mdef\u001b[39;00m \u001b[38;5;21mread_local_imdb\u001b[39m(data_path\u001b[38;5;241m=\u001b[39m\u001b[38;5;124m'\u001b[39m\u001b[38;5;124mdata/aclImdb/train/pos\u001b[39m\u001b[38;5;124m'\u001b[39m):\n\u001b[1;32m      4\u001b[0m     corpus \u001b[38;5;241m=\u001b[39m []\n\u001b[0;32m----> 5\u001b[0m     \u001b[38;5;28;01mfor\u001b[39;00m filename \u001b[38;5;129;01min\u001b[39;00m os\u001b[38;5;241m.\u001b[39mlistdir(data_path)[:\u001b[43mNUM_SAMPLES\u001b[49m]:\n\u001b[1;32m      6\u001b[0m         \u001b[38;5;28;01mif\u001b[39;00m filename\u001b[38;5;241m.\u001b[39mendswith(\u001b[38;5;124m'\u001b[39m\u001b[38;5;124m.txt\u001b[39m\u001b[38;5;124m'\u001b[39m):\n\u001b[1;32m      7\u001b[0m             \u001b[38;5;28;01mwith\u001b[39;00m \u001b[38;5;28mopen\u001b[39m(os\u001b[38;5;241m.\u001b[39mpath\u001b[38;5;241m.\u001b[39mjoin(data_path, filename), \u001b[38;5;124m'\u001b[39m\u001b[38;5;124mr\u001b[39m\u001b[38;5;124m'\u001b[39m, encoding\u001b[38;5;241m=\u001b[39m\u001b[38;5;124m'\u001b[39m\u001b[38;5;124mutf-8\u001b[39m\u001b[38;5;124m'\u001b[39m) \u001b[38;5;28;01mas\u001b[39;00m f:\n",
      "\u001b[0;31mNameError\u001b[0m: name 'NUM_SAMPLES' is not defined"
     ]
    }
   ],
   "source": [
    "# Function to read the downloaded dat\n",
    "import os\n",
    "def read_local_imdb(data_path='data/aclImdb/train/pos'):\n",
    "    corpus = []\n",
    "    for filename in os.listdir(data_path)[:NUM_SAMPLES]:\n",
    "        if filename.endswith('.txt'):\n",
    "            with open(os.path.join(data_path, filename), 'r', encoding='utf-8') as f:\n",
    "                text = f.read()\n",
    "                processed = [START_TOKEN] + [re.sub(r'[^\\w]', '', w.lower()) \n",
    "                           for w in text.split()] + [END_TOKEN]\n",
    "                corpus.append(processed)\n",
    "    return corpus\n",
    "\n",
    "# Read positive reviews\n",
    "pos_reviews = read_local_imdb('data/aclImdb/train/pos')\n",
    "# Read negative reviews\n",
    "neg_reviews = read_local_imdb('data/aclImdb/train/neg')\n",
    "\n",
    "# Combine them if needed\n",
    "imdb_corpus = pos_reviews + neg_reviews\n",
    "\n",
    "# Save processed corpus\n",
    "with open('data/processed_imdb_corpus.pkl', 'wb') as f:\n",
    "    pickle.dump(imdb_corpus, f)"
   ]
  },
  {
   "cell_type": "code",
   "execution_count": 18,
   "metadata": {},
   "outputs": [
    {
     "name": "stdout",
     "output_type": "stream",
     "text": [
      "Downloading IMDB dataset...\n",
      "Download complete! Now extracting...\n",
      "Extraction complete! Data is in data/aclImdb/\n"
     ]
    },
    {
     "data": {
      "text/plain": [
       "'data/imdb.tar (1).gz'"
      ]
     },
     "execution_count": 18,
     "metadata": {},
     "output_type": "execute_result"
    }
   ],
   "source": [
    "# Option 1: Using datasets library (as shown in your code)\n",
    "from datasets import load_dataset\n",
    "imdb_dataset = load_dataset(\"stanfordnlp/imdb\")\n",
    "# This automatically downloads and caches the dataset\n",
    "\n",
    "# Option 2: Direct download using wget or requests\n",
    "import requests\n",
    "import os\n",
    "\n",
    "def download_imdb():\n",
    "    # Create data directory if it doesn't exist\n",
    "    os.makedirs('data', exist_ok=True)\n",
    "    \n",
    "    # URL for the dataset\n",
    "    url = \"https://ai.stanford.edu/~amaas/data/sentiment/aclImdb_v1.tar.gz\"\n",
    "    \n",
    "    print(\"Downloading IMDB dataset...\")\n",
    "    response = requests.get(url, stream=True)\n",
    "    \n",
    "    # Save the compressed file\n",
    "    with open('data/imdb.tar.gz', 'wb') as f:\n",
    "        for chunk in response.iter_content(chunk_size=8192):\n",
    "            f.write(chunk)\n",
    "            \n",
    "    print(\"Download complete! Now extracting...\")\n",
    "    \n",
    "    # Extract the tar.gz file\n",
    "    import tarfile\n",
    "    with tarfile.open('data/imdb.tar.gz', 'r:gz') as tar:\n",
    "        tar.extractall(path='data')\n",
    "    \n",
    "    print(\"Extraction complete! Data is in data/aclImdb/\")\n",
    "\n",
    "# Run the download function\n",
    "download_imdb()\n",
    "\n",
    "# Option 3: Using wget (simpler but needs wget installed)\n",
    "import wget\n",
    "\n",
    "url = \"https://ai.stanford.edu/~amaas/data/sentiment/aclImdb_v1.tar.gz\"\n",
    "wget.download(url, 'data/imdb.tar.gz')"
   ]
  },
  {
   "cell_type": "code",
   "execution_count": 24,
   "metadata": {},
   "outputs": [],
   "source": [
    "import re  # Add this with your other imports at the top\n",
    "import os\n",
    "import tarfile\n",
    "\n",
    "# Now your file reading code will work:\n",
    "def read_files(path='data/aclImdb/train/pos'):\n",
    "    documents = []\n",
    "    for filename in os.listdir(path)[:150]:\n",
    "        if filename.endswith('.txt'):\n",
    "            with open(os.path.join(path, filename), 'r', encoding='utf-8') as f:\n",
    "                text = f.read()\n",
    "                # re.sub removes non-word characters\n",
    "                words = [START_TOKEN] + [re.sub(r'[^\\w]', '', w.lower()) \n",
    "                        for w in text.split()] + [END_TOKEN]\n",
    "                documents.append(words)\n",
    "    return documents"
   ]
  },
  {
   "cell_type": "code",
   "execution_count": 5,
   "metadata": {},
   "outputs": [
    {
     "ename": "NameError",
     "evalue": "name 'imdb_corpus' is not defined",
     "output_type": "error",
     "traceback": [
      "\u001b[0;31m---------------------------------------------------------------------------\u001b[0m",
      "\u001b[0;31mNameError\u001b[0m                                 Traceback (most recent call last)",
      "Cell \u001b[0;32mIn[5], line 9\u001b[0m\n\u001b[1;32m      6\u001b[0m             corpous_words\u001b[38;5;241m.\u001b[39mappend(word)\n\u001b[1;32m      7\u001b[0m             \u001b[38;5;28;01mreturn\u001b[39;00m corpous_words, \u001b[38;5;28mlen\u001b[39m(\u001b[38;5;28mset\u001b[39m(corpous_words))\n\u001b[0;32m----> 9\u001b[0m corpus_words, n_corpus_words \u001b[38;5;241m=\u001b[39m distinct_words(\u001b[43mimdb_corpus\u001b[49m)\n\u001b[1;32m     12\u001b[0m \u001b[38;5;28;01mdef\u001b[39;00m \u001b[38;5;21mdistinct_words\u001b[39m(corpus):\n\u001b[1;32m     14\u001b[0m     unique_words \u001b[38;5;241m=\u001b[39m \u001b[38;5;28mset\u001b[39m()  \u001b[38;5;66;03m# Sets automatically keep only unique values!\u001b[39;00m\n",
      "\u001b[0;31mNameError\u001b[0m: name 'imdb_corpus' is not defined"
     ]
    }
   ],
   "source": [
    "# Test your function\n",
    "def distinct_words(corpus):\n",
    "    corpous_words= {} #set\n",
    "    for doc in corpus:\n",
    "        for word in doc:\n",
    "            corpous_words.append(word)\n",
    "            return corpous_words, len(set(corpous_words))\n",
    "\n",
    "corpus_words, n_corpus_words = distinct_words(imdb_corpus)\n",
    "\n",
    "\n",
    "def distinct_words(corpus):\n",
    "    \n",
    "    unique_words = set()  # Sets automatically keep only unique values!\n",
    "    \n",
    "    \n",
    "    for doc in corpus:\n",
    "        for word in doc:\n",
    "            unique_words.add(word)  # or you could use update()\n",
    "    \n",
    "    # Now think about:\n",
    "    sorted_words = sorted(list(unique_words))\n",
    "    \n",
    "    return unique_words, len(sorted_words)"
   ]
  },
  {
   "cell_type": "code",
   "execution_count": null,
   "metadata": {},
   "outputs": [],
   "source": []
  }
 ],
 "metadata": {
  "kernelspec": {
   "display_name": "spotify",
   "language": "python",
   "name": "python3"
  },
  "language_info": {
   "codemirror_mode": {
    "name": "ipython",
    "version": 3
   },
   "file_extension": ".py",
   "mimetype": "text/x-python",
   "name": "python",
   "nbconvert_exporter": "python",
   "pygments_lexer": "ipython3",
   "version": "3.12.3"
  }
 },
 "nbformat": 4,
 "nbformat_minor": 2
}
